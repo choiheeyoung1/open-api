{
 "cells": [
  {
   "cell_type": "markdown",
   "id": "a3b26048",
   "metadata": {},
   "source": [
    "# QR 코드 생성기"
   ]
  },
  {
   "cell_type": "markdown",
   "id": "5118a349",
   "metadata": {},
   "source": [
    "이 노트북은 QR 코드를 생성하는 간단한 예제를 포함하고 있습니다."
   ]
  },
  {
   "cell_type": "code",
   "execution_count": null,
   "id": "9e58ed33",
   "metadata": {},
   "outputs": [],
   "source": [
    "# 필요한 라이브러리를 설치합니다.\n",
    "# !pip install qrcode[pil]\n",
    "\n",
    "import qrcode\n",
    "from PIL import Image\n",
    "\n",
    "# QR 코드를 생성할 데이터 입력\n",
    "data = \"https://github.com/choiheeyoung1/open-api\"\n",
    "\n",
    "# QR 코드 생성\n",
    "qr = qrcode.QRCode(\n",
    "    version=1,  \n",
    "    error_correction=qrcode.constants.ERROR_CORRECT_L, \n",
    "    box_size=10,  \n",
    "    border=4, \n",
    ")\n",
    "qr.add_data(data)\n",
    "qr.make(fit=True)\n",
    "\n",
    "# QR 코드 이미지 생성\n",
    "img = qr.make_image(fill_color=\"black\", back_color=\"white\")\n",
    "\n",
    "# QR 코드 이미지 보기\n",
    "img.show()\n",
    "\n",
    "# QR 코드 이미지를 파일로 저장\n",
    "img.save(\"qr_code.png\")\n",
    "print(\"QR 코드가 'qr_code.png'로 저장되었습니다.\")\n"
   ]
  }
 ],
 "metadata": {
  "kernelspec": {
   "display_name": "Python [conda env:base] *",
   "language": "python",
   "name": "conda-base-py"
  },
  "language_info": {
   "codemirror_mode": {
    "name": "ipython",
    "version": 3
   },
   "file_extension": ".py",
   "mimetype": "text/x-python",
   "name": "python",
   "nbconvert_exporter": "python",
   "pygments_lexer": "ipython3",
   "version": "3.12.3"
  }
 },
 "nbformat": 4,
 "nbformat_minor": 5
}
